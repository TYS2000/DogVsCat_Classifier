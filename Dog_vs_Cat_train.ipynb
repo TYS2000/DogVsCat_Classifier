{
 "cells": [
  {
   "cell_type": "code",
   "execution_count": 1,
   "metadata": {},
   "outputs": [
    {
     "name": "stderr",
     "output_type": "stream",
     "text": [
      "Using TensorFlow backend.\n"
     ]
    }
   ],
   "source": [
    "import tensorflow as tf\n",
    "from keras.models import Sequential\n",
    "from keras.layers import Dense,Dropout,Activation,Flatten\n",
    "from keras.layers import Conv2D,MaxPooling2D\n",
    "import pickle"
   ]
  },
  {
   "cell_type": "code",
   "execution_count": 2,
   "metadata": {},
   "outputs": [],
   "source": [
    "pickle_in=open(r'E:\\DOGVSCAT\\X.pickle',\"rb\")\n",
    "X=pickle.load(pickle_in)\n",
    "\n",
    "pickle_in=open(r'E:\\DOGVSCAT\\y.pickle',\"rb\")\n",
    "y=pickle.load(pickle_in)\n",
    "\n",
    "#X contains featuresand y has labels"
   ]
  },
  {
   "cell_type": "code",
   "execution_count": 3,
   "metadata": {},
   "outputs": [],
   "source": [
    "# Scale down the feature (Normalization) 255 is max pixel value\n",
    "\n",
    "X=X/255.0"
   ]
  },
  {
   "cell_type": "code",
   "execution_count": 4,
   "metadata": {
    "scrolled": true
   },
   "outputs": [
    {
     "name": "stdout",
     "output_type": "stream",
     "text": [
      "Train on 17336 samples, validate on 7431 samples\n",
      "Epoch 1/2\n",
      "17336/17336 [==============================] - 3339s 193ms/step - loss: 0.6782 - accuracy: 0.6047 - val_loss: 0.6422 - val_accuracy: 0.6551\n",
      "Epoch 2/2\n",
      "17336/17336 [==============================] - 3121s 180ms/step - loss: 0.5811 - accuracy: 0.6994 - val_loss: 0.5835 - val_accuracy: 0.7030\n"
     ]
    }
   ],
   "source": [
    "model = Sequential()\n",
    "\n",
    "model.add(Conv2D(256,(3,3),input_shape=X.shape[1:]))\n",
    "model.add(Activation('relu'))\n",
    "model.add(MaxPooling2D(pool_size=(2,2))) #2D matrix for max pulling\n",
    "\n",
    "model.add(Conv2D(256,(3,3)))\n",
    "model.add(Activation('relu'))\n",
    "model.add(MaxPooling2D(pool_size=(2,2))) \n",
    "\n",
    "model.add(Flatten())\n",
    "model.add(Dense(64))\n",
    "\n",
    "model.add(Dense(1))\n",
    "model.add(Activation('sigmoid'))\n",
    "\n",
    "model.compile(loss='binary_crossentropy',optimizer='adam',metrics=['accuracy'])\n",
    "\n",
    "model.fit(X,y,batch_size=20,epochs=20,validation_split=0.3)\n",
    "\n",
    "model.save(r'E:\\DOGVSCAT\\DOG_VS_CAT_CNN.model')"
   ]
  },
  {
   "cell_type": "code",
   "execution_count": null,
   "metadata": {},
   "outputs": [],
   "source": []
  }
 ],
 "metadata": {
  "kernelspec": {
   "display_name": "Python 3",
   "language": "python",
   "name": "python3"
  },
  "language_info": {
   "codemirror_mode": {
    "name": "ipython",
    "version": 3
   },
   "file_extension": ".py",
   "mimetype": "text/x-python",
   "name": "python",
   "nbconvert_exporter": "python",
   "pygments_lexer": "ipython3",
   "version": "3.7.7"
  }
 },
 "nbformat": 4,
 "nbformat_minor": 4
}
